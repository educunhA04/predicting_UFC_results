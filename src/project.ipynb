{
 "cells": [
  {
   "cell_type": "markdown",
   "id": "7dfc7f23",
   "metadata": {},
   "source": [
    "# 1. Dataset\n",
    "## 1.1 Database Features\n",
    "\n",
    "\n",
    "| Attribute              | Description                                                                 |\n",
    "|------------------------|-----------------------------------------------------------------------------|\n",
    "| A - fighter1           | Name of the first fighter.                                                  |\n",
    "| B - fighter2           | Name of the second fighter.                                                 |\n",
    "| C - event              | Name of the UFC event where the fight took place.                           |\n",
    "| D - fight_outcome      | Indicates which fighter won the fight.                                      |\n",
    "| E - origin_fight_url   | URL linking to the original source of the fight details.                    |\n",
    "| F - fighter1_Name      | Full name of fighter 1.                                                     |\n",
    "| G - fighter1_Nickname  | Nickname of fighter 1.                                                      |\n",
    "| H - fighter1_Record    | Fight record (wins-losses-draws) of fighter 1.                              |\n",
    "| I - fighter1_Height    | Height of fighter 1.                                                        |\n",
    "| J - fighter1_Weight    | Weight of fighter 1.                                                        |\n",
    "| K - fighter1_Reach     | Reach of fighter 1.                                                         |\n",
    "| L - fighter1_Stance    | Fighting stance of fighter 1 (e.g., Orthodox, Southpaw).                    |\n",
    "| M - fighter1_DOB       | Date of birth of fighter 1.                                                 |\n",
    "| N - fighter1_SLpM      | Significant strikes landed per minute by fighter 1.                         |\n",
    "| O - fighter1_StrAcc    | Striking accuracy of fighter 1.                                             |\n",
    "| P - fighter1_SApM      | Significant strikes absorbed per minute by fighter 1.                       |\n",
    "| Q - fighter1_StrDef    | Striking defense percentage of fighter 1.                                   |\n",
    "| R - fighter1_TDAvg     | Average takedowns per 15 minutes for fighter 1.                             |\n",
    "| S - fighter1_TDAcc     | Takedown accuracy of fighter 1.                                             |\n",
    "| T - fighter1_TDDef     | Takedown defense percentage of fighter 1.                                   |\n",
    "| U - fighter1_SubAvg    | Average number of submissions attempted per 15 minutes by fighter 1.        |\n",
    "| V - fighter2_Name      | Full name of fighter 2.                                                     |\n",
    "| W - fighter2_Nickname  | Nickname of fighter 2.                                                      |\n",
    "| X - fighter2_Record    | Fight record (wins-losses-draws) of fighter 2.                              |\n",
    "| Y - fighter2_Height    | Height of fighter 2.                                                        |\n",
    "| Z - fighter2_Weight    | Weight of fighter 2.                                                        |\n",
    "| AA - fighter2_Reach    | Reach of fighter 2.                                                         |\n",
    "| AB - fighter2_Stance   | Fighting stance of fighter 2 (e.g., Orthodox, Southpaw).                    |\n",
    "| AC - fighter2_DOB      | Date of birth of fighter 2.                                                 |\n",
    "| AD - fighter2_SLpM     | Significant strikes landed per minute by fighter 2.                         |\n",
    "| AE - fighter2_StrAcc   | Striking accuracy of fighter 2.                                             |\n",
    "| AF - fighter2_SApM     | Significant strikes absorbed per minute by fighter 2.                       |\n",
    "| AG - fighter2_StrDef   | Striking defense percentage of fighter 2.                                   |\n",
    "| AH - fighter2_TDAvg    | Average takedowns per 15 minutes for fighter 2.                             |\n",
    "| AI - fighter2_TDAcc    | Takedown accuracy of fighter 2.                                             |\n",
    "| AJ - fighter2_TDDef    | Takedown defense percentage of fighter 2.                                   |\n",
    "| AK - fighter2_SubAvg   | Average number of submissions attempted per 15 minutes by fighter 2.        |\n"
   ]
  },
  {
   "cell_type": "markdown",
   "id": "90a65e51",
   "metadata": {},
   "source": []
  }
 ],
 "metadata": {
  "kernelspec": {
   "display_name": "Python 3 (ipykernel)",
   "language": "python",
   "name": "python3"
  },
  "language_info": {
   "codemirror_mode": {
    "name": "ipython",
    "version": 3
   },
   "file_extension": ".py",
   "mimetype": "text/x-python",
   "name": "python",
   "nbconvert_exporter": "python",
   "pygments_lexer": "ipython3",
   "version": "3.9.12"
  }
 },
 "nbformat": 4,
 "nbformat_minor": 5
}
